{
 "cells": [
  {
   "cell_type": "code",
   "execution_count": 54,
   "metadata": {
    "collapsed": true
   },
   "outputs": [],
   "source": [
    "import numpy as np\n",
    "import pandas as pd\n",
    "import tempfile as tmp\n",
    "import subprocess as subp\n",
    "import re\n",
    "\n",
    "from __future__ import division"
   ]
  },
  {
   "cell_type": "markdown",
   "metadata": {},
   "source": [
    "## Constants \n",
    "## ================="
   ]
  },
  {
   "cell_type": "code",
   "execution_count": 55,
   "metadata": {
    "collapsed": false
   },
   "outputs": [],
   "source": [
    "GLUCOSE_GROWTH_CURVE = [[0,3,4,5,6,8,24,48,168,336],np.array([0.00267,0.01333,0.02567,0.06167,0.13567,0.19933,0.19500,0.17667,0.15233,0.14567])]\n",
    "GLUCOSE_GROWTH_CURVE_STDDEV = np.array([0.00058,0.00208,0.00306,0.00058,0.01210,0.00321,0.00100,0.00306,0.00153,0.00208])\n",
    "TIMES = [3,4,5,6,8,24,48,168,336]\n",
    "# Constant mass shifts expected to be present at all residues of a specific type, e.g. carbamidomethylation of Cys from IAA\n",
    "CONSTANT_MODS = {'C':57}\n"
   ]
  },
  {
   "cell_type": "markdown",
   "metadata": {},
   "source": [
    "## Functions \n",
    "## ================="
   ]
  },
  {
   "cell_type": "code",
   "execution_count": 56,
   "metadata": {
    "collapsed": false
   },
   "outputs": [],
   "source": [
    "def parse_MODa(file,\n",
    "               col_dtypes=[('DataSet',np.str),\n",
    "                           ('Index' , np.int32),\n",
    "                           ('ObservedMW', np.float64),\n",
    "                           ('Charge'  , np.int32),\n",
    "                           ('CalculatedMW' , np.float64),\n",
    "                           ('DeltaMass' , np.float64),\n",
    "                           ('Score' , np.int32),\n",
    "                           ('Probability' , np.float64),\n",
    "                          ('Peptide' , np.str),\n",
    "                         ('giID' , np.int64),\n",
    "                         ('PeptideStart' , np.int32),\n",
    "                         ('PeptideEnd' , np.int32)]):\n",
    "    \"\"\"\n",
    "    build a Dataframe from a one-peptide-per-row MODa file\n",
    "\n",
    "    file: MODa file (best to concatenate all timepoint files together)\n",
    "    col_dtypes: list of (ColumnName,Numpy datatype) pairs\n",
    "    \"\"\"\n",
    "    \n",
    "    # Fix some problematic text things \n",
    "    # NOTE THAT THESE MODIFY THE FILE IN-PLACE\n",
    "    parse_temp = tmp.NamedTemporaryFile()\n",
    "    p1 = subp.Popen(['perl','-pe','s/\\~/\\t/g',file],stdout=subp.PIPE)\n",
    "    p2 = subp.Popen(['perl','-pe','s/\\S+MURI_(\\S+?)\\.\\S+/$1/'],stdin=p1.stdout,stdout=subp.PIPE)\n",
    "    p3 = subp.Popen(['perl','-pe','s/gi\\|//'],stdin=p2.stdout,stdout=subp.PIPE)\n",
    "    \n",
    "    # Filter out any header lines\n",
    "    p4 = subp.Popen(['grep','-v','SpectrumFile'],stdin=p3.stdout,stdout=parse_temp)\n",
    "    p4.communicate()\n",
    "    df = pd.read_csv(parse_temp.name,sep=\"\\t\",header=None,names=zip(*col_dtypes)[0])#,dtype=dict(col_dtypes))#,error_bad_lines=False,keep_default_na=False,verbose=True)\n",
    "    parse_temp.close()\n",
    "    return df\n",
    "\n",
    "def get_mod(peptide,constants=CONSTANT_MODS):\n",
    "    \"\"\"\n",
    "    RegEx out the modified residue & location from a MODa peptide field\n",
    "\n",
    "    peptide: peptide seq w/ MODa annotation (string)\n",
    "    \"\"\"\n",
    "    hit = re.search('\\w?\\.(\\w*)((\\+|-)\\d+)(\\w*)\\.\\w?',peptide)\n",
    "    full_pept = \"\"\n",
    "    modification = 0\n",
    "    modloc = -1\n",
    "    modres = '-'\n",
    "    if hit:\n",
    "        full_pept=hit.group(1) + hit.group(4)\n",
    "        modification = int(hit.group(2))\n",
    "        modloc=len(hit.group(1)) - 1\n",
    "        modres=hit.group(1)[-1]\n",
    "        if modres in constants.keys():\n",
    "            modification += constants[modres]\n",
    "    else:\n",
    "        pept_seq_search = re.search('\\w?\\.(\\w+)\\.\\w?',peptide)\n",
    "        full_pept=pept_seq_search.group(1)\n",
    "        modification = 0\n",
    "    return (full_pept,modification,modloc,modres)\n"
   ]
  },
  {
   "cell_type": "markdown",
   "metadata": {},
   "source": [
    "## Parse MODa File into a pandas DataFrame\n",
    "## ================="
   ]
  },
  {
   "cell_type": "code",
   "execution_count": 57,
   "metadata": {
    "collapsed": false
   },
   "outputs": [
    {
     "name": "stdout",
     "output_type": "stream",
     "text": [
      "(2527135, 12)\n",
      "(2527135, 28)\n"
     ]
    }
   ],
   "source": [
    "print all_pept_raw.shape\n",
    "print all_pept.shape"
   ]
  },
  {
   "cell_type": "code",
   "execution_count": 59,
   "metadata": {
    "collapsed": false,
    "scrolled": true
   },
   "outputs": [
    {
     "name": "stdout",
     "output_type": "stream",
     "text": [
      "  DataSet  Index  ObservedMW  Charge  CalculatedMW  DeltaMass  Score  \\\n",
      "0    100a    128    986.5384       2      986.5396    -0.0013     23   \n",
      "1    100a    153   1958.0489       4     1958.0091     0.0398     26   \n",
      "2    100a    157    923.7056       3      923.5498     0.1558     12   \n",
      "3    100a    164    986.5396       2      986.5396    -0.0000     21   \n",
      "4    100a    167    986.5377       2      986.5396    -0.0019     22   \n",
      "\n",
      "   Probability                    Peptide       giID  PeptideStart  PeptideEnd  \n",
      "0       0.3035              K.LAGDLETLR.S  254160296           219         227  \n",
      "1       0.1372  R.FKDP+55DAALPEIALYVGGK.L  254161376           270         287  \n",
      "2       0.1366           R.EAALTLL-19GR.A  254163538           322         330  \n",
      "3       0.1744              K.LAGDLETLR.S  254160296           219         227  \n",
      "4       0.1571              K.LAGDLETLR.S  254160296           219         227  \n",
      "proteins len: 4201\n",
      "  DataSet  Index  ObservedMW  Charge  CalculatedMW  DeltaMass  Score  Probability          Peptide       giID  PeptideStart  PeptideEnd   Start    Stop Strand   GeneID Locus   LocusTag ProteinProduct_x  Length                                  ProteinName  Time  BiolRep  TechRep PeptideSeq  MassShift  ModifiedPosition ModifiedResidue\n",
      "0    100a    128    986.5384       2      986.5396    -0.0013     23       0.3035    K.LAGDLETLR.S  254160296           219         227  200770  203202      +  8175141  yaeT  ECB_00175   YP_003043404.1     810  outer membrane protein assembly factor YaeT     6        3        1  LAGDLETLR          0                -1               -\n",
      "1    100a    164    986.5396       2      986.5396    -0.0000     21       0.1744    K.LAGDLETLR.S  254160296           219         227  200770  203202      +  8175141  yaeT  ECB_00175   YP_003043404.1     810  outer membrane protein assembly factor YaeT     6        3        1  LAGDLETLR          0                -1               -\n",
      "2    100a    167    986.5377       2      986.5396    -0.0019     22       0.1571    K.LAGDLETLR.S  254160296           219         227  200770  203202      +  8175141  yaeT  ECB_00175   YP_003043404.1     810  outer membrane protein assembly factor YaeT     6        3        1  LAGDLETLR          0                -1               -\n",
      "3    100a    173    987.5440       2      987.5396     0.0043     19       0.2249  K.L+1AGDLETLR.S  254160296           219         227  200770  203202      +  8175141  yaeT  ECB_00175   YP_003043404.1     810  outer membrane protein assembly factor YaeT     6        3        1  LAGDLETLR          1                 0               L\n",
      "4    100a    190    986.5389       2      986.5396    -0.0008     26       0.8113    K.LAGDLETLR.S  254160296           219         227  200770  203202      +  8175141  yaeT  ECB_00175   YP_003043404.1     810  outer membrane protein assembly factor YaeT     6        3        1  LAGDLETLR          0                -1               -\n"
     ]
    }
   ],
   "source": [
    "# parse the concatenated MODa file\n",
    "all_pept_raw = parse_MODa(\"data/MURI_ALL.id.txt\")\n",
    "print all_pept_raw.head()\n",
    "\n",
    "# Load protein table and giID list\n",
    "proteinTable = pd.read_csv(\"data/REL606_ProteinTable167_161539.txt\",sep=\"\\t\")\n",
    "gi_ids = pd.read_csv(\"data/gi_to_name_list_shrt.txt\",sep=\"\\t\",header=None,names=['ProteinProduct','LocusTag','giID'])\n",
    "\n",
    "# merge to build giID table\n",
    "proteins = pd.merge(proteinTable,gi_ids,on='LocusTag')\n",
    "print \"proteins len: %d\" % (len(proteins),)\n",
    "\n",
    "# Build table relating DataSet ID to time, biol. replicate, and tech. replicate\n",
    "tp = set(all_pept_raw['DataSet'])\n",
    "srt_tp = sorted(tp, cmp=(lambda x,y: cmp((int(x[:-1]),x[-1]), (int(y[:-1]),y[-1]))))\n",
    "times = [3,3,4,4,5,5,6,6,8,8,24,24,48,48,168,168,336,336] * 3\n",
    "breplicates = [1] * 18\n",
    "breplicates.extend([2] * 18)\n",
    "breplicates.extend([3] * 18)\n",
    "treplicates = [1,2] * 27\n",
    "time_ID = pd.DataFrame(data=zip(times,breplicates,treplicates,srt_tp), columns=['Time','BiolRep','TechRep','DataSet'])\n",
    "\n",
    "# merge (join) to match giIDs to human-readable gene info\n",
    "all_pept = pd.merge(all_pept_raw,proteins,on=\"giID\")\n",
    "# join all_pept to time_ID to match AG3C dataset ID to timepoint and replicate\n",
    "all_pept = pd.merge(all_pept,time_ID,on=\"DataSet\")\n",
    "\n",
    "# Extract modification info from MODa peptide sequence string\n",
    "pept_seqs = all_pept['Peptide']\n",
    "pept_seqs,mods,modloc,modres = zip(*pept_seqs.apply(get_mod))\n",
    "\n",
    "#Add modification info columns to all_pept\n",
    "all_pept[\"PeptideSeq\"] = pd.Series(pept_seqs)\n",
    "all_pept[\"MassShift\"] = pd.Series(mods)\n",
    "all_pept[\"ModifiedPosition\"] = pd.Series(modloc)\n",
    "all_pept[\"ModifiedResidue\"] = pd.Series(modres)\n",
    "\n",
    "# Drop columns if not needed\n",
    "all_pept = all_pept.drop([\"RepliconName\",\"RepliconAccession\",\"ProteinProduct_y\",\"COGs\"],axis=1)\n",
    "\n",
    "# Check! [replace w/ an assertion if do a lot more of these]\n",
    "print all_pept.head().to_string()"
   ]
  },
  {
   "cell_type": "code",
   "execution_count": null,
   "metadata": {
    "collapsed": false
   },
   "outputs": [],
   "source": [
    "# Output raw peptide sequences for external MW calculation\n",
    "all_pept.PeptideSeq.to_csv(\"data/all_pept_PeptideSeq.txt\",index=False)"
   ]
  },
  {
   "cell_type": "code",
   "execution_count": null,
   "metadata": {
    "collapsed": false
   },
   "outputs": [],
   "source": [
    "# Use ExPaSY protein tools peptide MW calculator to generate table of monoisotopic molecular weights for the unmodified peptides\n",
    "#\n",
    "# Output formats may vary if you use something else...\n",
    "\n",
    "mono_MW = pd.read_csv(\"data/all_pept_monoMW.txt\",header=None,delim_whitespace=True,names=[\"PeptideSeq\",\"pI\",\"CalculatedUnmodMW\"])\n",
    "mono_MW.drop(['pI'],axis=1,inplace=True)\n",
    "all_pept_calcMW = pd.merge(all_pept,mono_MW,on=\"PeptideSeq\",how='left')"
   ]
  },
  {
   "cell_type": "code",
   "execution_count": null,
   "metadata": {
    "collapsed": true
   },
   "outputs": [],
   "source": [
    "all_pept_calcMW.to_csv(\"data/all_pept.tsv\",sep=\"\\t\")"
   ]
  },
  {
   "cell_type": "code",
   "execution_count": null,
   "metadata": {
    "collapsed": true
   },
   "outputs": [],
   "source": []
  }
 ],
 "metadata": {
  "anaconda-cloud": {},
  "kernelspec": {
   "display_name": "Python [Root]",
   "language": "python",
   "name": "Python [Root]"
  },
  "language_info": {
   "codemirror_mode": {
    "name": "ipython",
    "version": 2
   },
   "file_extension": ".py",
   "mimetype": "text/x-python",
   "name": "python",
   "nbconvert_exporter": "python",
   "pygments_lexer": "ipython2",
   "version": "2.7.12"
  }
 },
 "nbformat": 4,
 "nbformat_minor": 0
}
